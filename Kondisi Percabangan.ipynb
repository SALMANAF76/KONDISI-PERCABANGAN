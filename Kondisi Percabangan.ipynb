{
 "cells": [
  {
   "cell_type": "markdown",
   "id": "77827198",
   "metadata": {},
   "source": [
    "<h1>PERCABANGAN <h1>"
   ]
  },
  {
   "cell_type": "code",
   "execution_count": 10,
   "id": "90afea07",
   "metadata": {},
   "outputs": [
    {
     "name": "stdout",
     "output_type": "stream",
     "text": [
      "Isikan Nilai:0\n",
      "0 adalah bilangan genap\n",
      "Program Selesai\n"
     ]
    }
   ],
   "source": [
    "#Menentukan ganjil genap\n",
    "nilai = int(input('Isikan Nilai:'))\n",
    "sisa_bagi = nilai % 2\n",
    "\n",
    "if sisa_bagi==0:\n",
    "    print(f'{nilai} adalah bilangan genap')\n",
    "else:\n",
    "    print(f'{nilai} adalah bilangan ganjil')\n",
    "print('Program Selesai')\n"
   ]
  },
  {
   "cell_type": "code",
   "execution_count": 31,
   "id": "8c765084",
   "metadata": {},
   "outputs": [
    {
     "name": "stdout",
     "output_type": "stream",
     "text": [
      "Isikan Nilai Pemrograman:1\n",
      "E\n"
     ]
    }
   ],
   "source": [
    "# 0 - 49 => E\n",
    "# 50 - 59 => D\n",
    "# 60 - 69 => C\n",
    "# 70 - 84 => B\n",
    "# 85 - 100 => A\n",
    "\n",
    "nilai_program = int(input('Isikan Nilai Pemrograman:'))\n",
    "\n",
    "if nilai < 0 or nilai >100: \n",
    "    print('Nilai Anda Salah')\n",
    "else:\n",
    "    if nilai <50:\n",
    "        print(\"E\")\n",
    "    elif nilai <60:\n",
    "        print(\"D\")\n",
    "    elif nilai <70:\n",
    "        print(\"C\")\n",
    "    elif nilai <85:\n",
    "        print(\"B\")\n",
    "    elif nilai <=100:    \n",
    "        print(\"A\")\n",
    "\n",
    "\n"
   ]
  },
  {
   "cell_type": "code",
   "execution_count": 3,
   "id": "ba59416e",
   "metadata": {},
   "outputs": [
    {
     "name": "stdout",
     "output_type": "stream",
     "text": [
      "Isikan Ussername: admin\n",
      "Isikan Password: admin\n",
      "Selamat Datang admin\n"
     ]
    }
   ],
   "source": [
    "Ussername = input('Isikan Ussername: ')\n",
    "password = input('Isikan Password: ')\n",
    "if Ussername == 'admin':\n",
    "    if password=='admin': \n",
    "        print(f'Selamat Datang {Ussername}')\n",
    "    else:\n",
    "        print(f'Password anda salah')\n",
    "    \n",
    "else:\n",
    "    if password == 'admin': \n",
    "        print('Ussername anda salah')\n",
    "        \n",
    "    else:\n",
    "        print('Ussername dan Password anda salah')\n",
    "        "
   ]
  },
  {
   "cell_type": "code",
   "execution_count": 53,
   "id": "5d2db9cd",
   "metadata": {},
   "outputs": [
    {
     "name": "stdout",
     "output_type": "stream",
     "text": [
      "isikan namasss\n",
      "isikan umur45\n",
      "isikan alamathavana\n",
      "tabungan10000\n",
      "sss kemungkinan adalah seorang anggota mafia dengan pangkat don\n"
     ]
    }
   ],
   "source": [
    "nama = input('isikan nama')\n",
    "umur = int(input('isikan umur'))\n",
    "alamat = input('isikan alamat')\n",
    "tabungan =int(input('tabungan'))\n",
    "\n",
    "pangkat = ''\n",
    "if umur >40:\n",
    "    if alamat=='new york' or alamat=='nevada' or alamat=='havana':\n",
    "        if tabungan > 10.000:\n",
    "                pangkat = 'don'\n",
    "                \n",
    "elif 25 <= umur <=40:\n",
    "    if alamat=='new jersey' or alamat=='manhattan' or alamat=='nevada':\n",
    "        if 1.000<=tabungan <=2.000:\n",
    "            pangkat = 'underboss'\n",
    "            \n",
    "elif 18<= umur <=24:\n",
    "    if alamat=='california' or alamat=='detroit' or alamat=='boston':\n",
    "        if tabungan <1.000:\n",
    "            pangkat = 'capo'\n",
    "                \n",
    "if pangkat!='':\n",
    "    print(f'{nama} kemungkinan adalah seorang anggota mafia dengan pangkat {pangkat}')\n",
    "else:\n",
    "    print(f'{nama} tidak mencurigakan')\n",
    "        \n",
    "    \n"
   ]
  },
  {
   "cell_type": "code",
   "execution_count": null,
   "id": "60b1c7ec",
   "metadata": {},
   "outputs": [],
   "source": []
  }
 ],
 "metadata": {
  "kernelspec": {
   "display_name": "Python 3 (ipykernel)",
   "language": "python",
   "name": "python3"
  },
  "language_info": {
   "codemirror_mode": {
    "name": "ipython",
    "version": 3
   },
   "file_extension": ".py",
   "mimetype": "text/x-python",
   "name": "python",
   "nbconvert_exporter": "python",
   "pygments_lexer": "ipython3",
   "version": "3.9.12"
  }
 },
 "nbformat": 4,
 "nbformat_minor": 5
}
